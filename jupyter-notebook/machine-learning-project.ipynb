{
 "cells": [
  {
   "cell_type": "markdown",
   "metadata": {},
   "source": [
    "# MACHINE LEARNING PROJECT"
   ]
  },
  {
   "cell_type": "markdown",
   "metadata": {},
   "source": [
    "## A. DATA PRE-PROCESSING "
   ]
  },
  {
   "cell_type": "markdown",
   "metadata": {},
   "source": [
    "### 1. INPUT DATA"
   ]
  },
  {
   "cell_type": "code",
   "execution_count": 3,
   "metadata": {},
   "outputs": [],
   "source": [
    "# import library\n",
    "import pandas as pd # pandas digunakan untuk memproses data frame\n",
    "import numpy as np # numpy digunakan untuk memproses data numerik"
   ]
  },
  {
   "cell_type": "code",
   "execution_count": 19,
   "metadata": {},
   "outputs": [
    {
     "name": "stdout",
     "output_type": "stream",
     "text": [
      "   EMP ID EMP NAME GENDER TAX STATUS  FULL BASIC SALARY  COMPANY  PAY GROUP  \\\n",
      "0       1   EMP 01      M        TK0                NaN      NaN        NaN   \n",
      "1       2   EMP 02      F         K0                NaN      NaN        NaN   \n",
      "2       3   EMP 03      F         K0                NaN      NaN        NaN   \n",
      "3       4   EMP 04      M        TK0                NaN      NaN        NaN   \n",
      "4       5   EMP 05      M         K1                NaN      NaN        NaN   \n",
      "5       6   EMP 06      M         K2                NaN      NaN        NaN   \n",
      "6       7   EMP 07      F         K1                NaN      NaN        NaN   \n",
      "\n",
      "   TAX GROUP  EMPLOYMENT STATUS  JOB TITLE  ...  SUB BRAND  BRAND  DIVISION  \\\n",
      "0        NaN                NaN        NaN  ...        NaN    NaN       NaN   \n",
      "1        NaN                NaN        NaN  ...        NaN    NaN       NaN   \n",
      "2        NaN                NaN        NaN  ...        NaN    NaN       NaN   \n",
      "3        NaN                NaN        NaN  ...        NaN    NaN       NaN   \n",
      "4        NaN                NaN        NaN  ...        NaN    NaN       NaN   \n",
      "5        NaN                NaN        NaN  ...        NaN    NaN       NaN   \n",
      "6        NaN                NaN        NaN  ...        NaN    NaN       NaN   \n",
      "\n",
      "   UNIT  WORKING LOCATION  BUSINESS AREA 1  BUSINESS AREA 2  BASIC SALARY  \\\n",
      "0   NaN               NaN              NaN              NaN           NaN   \n",
      "1   NaN               NaN              NaN              NaN           NaN   \n",
      "2   NaN               NaN              NaN              NaN           NaN   \n",
      "3   NaN               NaN              NaN              NaN           NaN   \n",
      "4   NaN               NaN              NaN              NaN           NaN   \n",
      "5   NaN               NaN              NaN              NaN           NaN   \n",
      "6   NaN               NaN              NaN              NaN           NaN   \n",
      "\n",
      "   EMPLOYEE TAX  TAKE HOME PAY  \n",
      "0           NaN            NaN  \n",
      "1           NaN            NaN  \n",
      "2           NaN            NaN  \n",
      "3           NaN            NaN  \n",
      "4           NaN            NaN  \n",
      "5           NaN            NaN  \n",
      "6           NaN            NaN  \n",
      "\n",
      "[7 rows x 26 columns]\n"
     ]
    }
   ],
   "source": [
    "# read data full list\n",
    "full_list = pd.read_csv('../data-dummy/full-list.csv', delimiter=';')\n",
    "\n",
    "# tampilkan data\n",
    "print(full_list)"
   ]
  },
  {
   "cell_type": "code",
   "execution_count": 20,
   "metadata": {},
   "outputs": [
    {
     "data": {
      "text/plain": [
       "EMP ID               0\n",
       "EMP NAME             0\n",
       "GENDER               0\n",
       "TAX STATUS           0\n",
       "FULL BASIC SALARY    7\n",
       "COMPANY              7\n",
       "PAY GROUP            7\n",
       "TAX GROUP            7\n",
       "EMPLOYMENT STATUS    7\n",
       "JOB TITLE            7\n",
       "ORGANIZATION UNIT    7\n",
       "BPJS GROUP           7\n",
       "COST CENTER          7\n",
       "LEVEL                7\n",
       "JOB LEVEL            7\n",
       "DEPARTMENT           7\n",
       "SUB BRAND            7\n",
       "BRAND                7\n",
       "DIVISION             7\n",
       "UNIT                 7\n",
       "WORKING LOCATION     7\n",
       "BUSINESS AREA 1      7\n",
       "BUSINESS AREA 2      7\n",
       "BASIC SALARY         7\n",
       "EMPLOYEE TAX         7\n",
       "TAKE HOME PAY        7\n",
       "dtype: int64"
      ]
     },
     "execution_count": 20,
     "metadata": {},
     "output_type": "execute_result"
    }
   ],
   "source": [
    "# cek data yang hilang\n",
    "full_list.isnull().sum(axis=0)"
   ]
  },
  {
   "cell_type": "code",
   "execution_count": null,
   "metadata": {},
   "outputs": [],
   "source": []
  }
 ],
 "metadata": {
  "kernelspec": {
   "display_name": "Python 3",
   "language": "python",
   "name": "python3"
  },
  "language_info": {
   "codemirror_mode": {
    "name": "ipython",
    "version": 3
   },
   "file_extension": ".py",
   "mimetype": "text/x-python",
   "name": "python",
   "nbconvert_exporter": "python",
   "pygments_lexer": "ipython3",
   "version": "3.11.8"
  }
 },
 "nbformat": 4,
 "nbformat_minor": 2
}
