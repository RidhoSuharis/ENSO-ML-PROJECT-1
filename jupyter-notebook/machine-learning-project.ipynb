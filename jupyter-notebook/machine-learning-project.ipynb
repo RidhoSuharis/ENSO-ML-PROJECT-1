{
 "cells": [
  {
   "cell_type": "markdown",
   "metadata": {},
   "source": [
    "# MACHINE LEARNING PROJECT"
   ]
  },
  {
   "cell_type": "markdown",
   "metadata": {},
   "source": [
    "## A. DATA PRE-PROCESSING "
   ]
  },
  {
   "cell_type": "markdown",
   "metadata": {},
   "source": [
    "### 1. INPUT DATA"
   ]
  },
  {
   "cell_type": "code",
   "execution_count": 3,
   "metadata": {},
   "outputs": [],
   "source": [
    "# import library\n",
    "import pandas as pd # pandas digunakan untuk memproses data frame\n",
    "import numpy as np # numpy digunakan untuk memproses data numerik"
   ]
  },
  {
   "cell_type": "code",
   "execution_count": 18,
   "metadata": {},
   "outputs": [
    {
     "name": "stdout",
     "output_type": "stream",
     "text": [
      "   EMP ID EMP NAME GENDER  TAX STATUS  BPJS ID  BANK NAME  ACCOUNT NUMBER  \\\n",
      "0       1   EMP 01      M         NaN      NaN        NaN             NaN   \n",
      "1       2   EMP 02      F         NaN      NaN        NaN             NaN   \n",
      "2       3   EMP 03      F         NaN      NaN        NaN             NaN   \n",
      "3       4   EMP 04      M         NaN      NaN        NaN             NaN   \n",
      "4       5   EMP 05      M         NaN      NaN        NaN             NaN   \n",
      "5       6   EMP 06      M         NaN      NaN        NaN             NaN   \n",
      "6       7   EMP 07      F         NaN      NaN        NaN             NaN   \n",
      "\n",
      "   ACCOUNT NAME  FULL BASIC SALARY  COMPANY  ...  SUB BRAND  BRAND  DIVISION  \\\n",
      "0           NaN                NaN      NaN  ...        NaN    NaN       NaN   \n",
      "1           NaN                NaN      NaN  ...        NaN    NaN       NaN   \n",
      "2           NaN                NaN      NaN  ...        NaN    NaN       NaN   \n",
      "3           NaN                NaN      NaN  ...        NaN    NaN       NaN   \n",
      "4           NaN                NaN      NaN  ...        NaN    NaN       NaN   \n",
      "5           NaN                NaN      NaN  ...        NaN    NaN       NaN   \n",
      "6           NaN                NaN      NaN  ...        NaN    NaN       NaN   \n",
      "\n",
      "   UNIT  WORKING LOCATION  BUSINESS AREA 1  BUSINESS AREA 2  BASIC SALARY  \\\n",
      "0   NaN               NaN              NaN              NaN           NaN   \n",
      "1   NaN               NaN              NaN              NaN           NaN   \n",
      "2   NaN               NaN              NaN              NaN           NaN   \n",
      "3   NaN               NaN              NaN              NaN           NaN   \n",
      "4   NaN               NaN              NaN              NaN           NaN   \n",
      "5   NaN               NaN              NaN              NaN           NaN   \n",
      "6   NaN               NaN              NaN              NaN           NaN   \n",
      "\n",
      "   EMPLOYEE TAX  TAKE HOME PAY  \n",
      "0           NaN            NaN  \n",
      "1           NaN            NaN  \n",
      "2           NaN            NaN  \n",
      "3           NaN            NaN  \n",
      "4           NaN            NaN  \n",
      "5           NaN            NaN  \n",
      "6           NaN            NaN  \n",
      "\n",
      "[7 rows x 30 columns]\n"
     ]
    }
   ],
   "source": [
    "# read data full list\n",
    "full_list = pd.read_csv('../data-dummy/full-list.csv', delimiter=';')\n",
    "\n",
    "# tampilkan data\n",
    "print(full_list)"
   ]
  }
 ],
 "metadata": {
  "kernelspec": {
   "display_name": "Python 3",
   "language": "python",
   "name": "python3"
  },
  "language_info": {
   "codemirror_mode": {
    "name": "ipython",
    "version": 3
   },
   "file_extension": ".py",
   "mimetype": "text/x-python",
   "name": "python",
   "nbconvert_exporter": "python",
   "pygments_lexer": "ipython3",
   "version": "3.11.8"
  }
 },
 "nbformat": 4,
 "nbformat_minor": 2
}
